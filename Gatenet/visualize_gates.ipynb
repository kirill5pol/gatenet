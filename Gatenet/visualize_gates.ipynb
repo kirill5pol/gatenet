{
 "cells": [
  {
   "cell_type": "code",
   "execution_count": 1,
   "metadata": {
    "collapsed": false
   },
   "outputs": [],
   "source": [
    "import seaborn as sns\n",
    "import matplotlib.pyplot as plt\n",
    "import numpy as np\n",
    "%matplotlib inline\n",
    "import numpy as np\n",
    "import matplotlib\n",
    "import pickle\n",
    "from plotting_utils import *\n",
    "from sklearn.manifold import TSNE \n",
    "from sklearn.decomposition import PCA\n",
    "\n",
    "sns.set(font_scale=1, context='notebook')\n",
    "matplotlib.rcParams['figure.figsize'] = 10,10\n",
    "plt.rcParams['axes.facecolor'] = '#f5f5f5f5'\n"
   ]
  },
  {
   "cell_type": "markdown",
   "metadata": {},
   "source": [
    "# Load data\n",
    "<br>"
   ]
  },
  {
   "cell_type": "code",
   "execution_count": 2,
   "metadata": {
    "collapsed": false
   },
   "outputs": [],
   "source": [
    "# Load gate vector data\n",
    "with open('output/' + 'test' + '.pkl', 'rb') as f:\n",
    "        input = pickle.load(f)"
   ]
  },
  {
   "cell_type": "code",
   "execution_count": 3,
   "metadata": {
    "collapsed": true
   },
   "outputs": [],
   "source": [
    "# Get components from data\n",
    "gates = np.array(input[0])\n",
    "labels = np.array(input[1])\n",
    "images = np.array(input[2])\n",
    "parameter_dict = input[3]"
   ]
  },
  {
   "cell_type": "code",
   "execution_count": 4,
   "metadata": {
    "collapsed": false,
    "scrolled": true
   },
   "outputs": [
    {
     "name": "stdout",
     "output_type": "stream",
     "text": [
      "{'M': 3, 'L': 5, 'num_batches': 1001, 'tensor_size': 30, 'gamma': 2, 'learning_rate': 0.001, 'batch_size': 100, 'output_file': 'test'}\n",
      "[0 3 3 ..., 0 1 1]\n",
      "(2500, 5, 3)\n"
     ]
    }
   ],
   "source": [
    "print(parameter_dict)\n",
    "print(labels)\n",
    "print(gates.shape)"
   ]
  },
  {
   "cell_type": "markdown",
   "metadata": {},
   "source": [
    "# Define Functions"
   ]
  },
  {
   "cell_type": "code",
   "execution_count": 5,
   "metadata": {
    "collapsed": false
   },
   "outputs": [],
   "source": [
    "def visualize_gates(gates, images, num_test_digits=10, shuffle=True):\n",
    "    '''\n",
    "    Visualize num_test_digits examples of gate activations\n",
    "    '''\n",
    "    # Indiviual cell is height=1, width=0.4\n",
    "    width = 1 * gates.shape[2] # Cell width * num of modules\n",
    "    height = 0.4 * gates.shape[1] # Cell height * num of layers\n",
    "    figsize = (width, height) \n",
    "\n",
    "    plot_num = num_test_digits * 100 + 11\n",
    "    for i in range(num_test_digits):\n",
    "        # To shuffle\n",
    "        if shuffle:\n",
    "            k = (i + np.random.randint(low=0, high=gates.shape[0]-1)) % gates.shape[0]\n",
    "        else:\n",
    "            k = i\n",
    "\n",
    "        plt.figure(figsize=(5, 2))\n",
    "        plt.title('Number is: '+str(labels[k]))\n",
    "        sns.heatmap(gates[k,:,:])\n",
    "        plt.figure(figsize=(2, 2))\n",
    "        plt.imshow(images[k])\n",
    "\n",
    "\n",
    "def compute_cosine_sim(gates, parameter_dict, num_test_digits, trial = 2):\n",
    "    '''\n",
    "    Compute cosine similarity\n",
    "    '''\n",
    "    gate_vectors = np.reshape(gates, (-1, parameter_dict['L']*parameter_dict['M']))\n",
    "    #print(gate_vectors.shape)\n",
    "    gate_vectors = np.transpose(gate_vectors)\n",
    "\n",
    "    output = np.zeros(num_test_digits)\n",
    "    for i in range(num_test_digits):\n",
    "        a = gate_vectors[:, trial]\n",
    "        b = gate_vectors[:, i]\n",
    "        an = a/np.linalg.norm(a)\n",
    "        bn = b/np.linalg.norm(b)\n",
    "        output[i] = np.dot(an,bn)\n",
    "\n",
    "    print('output', output)\n",
    "    elems = np.argsort(output)\n",
    "    print('Most similar elems to trial', elems[::-1])\n",
    "    \n",
    "    \n",
    "def visualize_model(gates_reshaped, labels, model):\n",
    "    '''\n",
    "    Visualize the data X, with label y with the model (t-SNE or PCA)\n",
    "    '''\n",
    "    print(gates_reshaped.shape) # sanity check\n",
    "    independent_labels = list(set(labels))\n",
    "    print(independent_labels) # sanity check\n",
    "\n",
    "    x = model.fit_transform(gates_reshaped)\n",
    "    y = labels\n",
    "\n",
    "    # Add more colors if doing something other than MNIST\n",
    "    colors = ['b','g','#00FFFF','c','m','y','k','#0048BA','r','#F4C2C2']\n",
    "\n",
    "    fig = plt.figure()\n",
    "    ax1 = fig.add_subplot(111)\n",
    "\n",
    "    for i in (independent_labels):\n",
    "        mask_i = y == i\n",
    "        x_i = x[mask_i]\n",
    "        ax1.scatter(x_i[:,0], x_i[:,1], s=10, c=colors[i], label='Label: '+str(i))\n",
    "    plt.legend(loc='upper left');\n",
    "    plt.show()\n",
    "\n",
    "\n",
    "def visualize_comparison(gates_reshaped, labels, model, a=7, b=8):\n",
    "    y = labels\n",
    "    # Comparing a and b\n",
    "    maska = y == a\n",
    "    maskb = y == b\n",
    "    reshapeda = gates_reshaped[maska]\n",
    "    num_a = len(reshapeda) # number of 'a's (used below for scatterplot)\n",
    "    reshapedb = gates_reshaped[maskb]\n",
    "    rab = np.concatenate((reshapeda, reshapedb), axis=0)\n",
    "\n",
    "    '''\n",
    "    print(rab.shape)\n",
    "    print(reshapeda.shape)\n",
    "    print(reshapedb.shape)\n",
    "    print(num_a)\n",
    "    '''\n",
    "\n",
    "    xab = model.fit_transform(rab)\n",
    "\n",
    "    fig = plt.figure()\n",
    "    ax1 = fig.add_subplot(111)\n",
    "\n",
    "    ax1.scatter(xab[:num_a,0], xab[:num_a,1], s=10, c='#0048BA', label='Label: '+str(a))\n",
    "    ax1.scatter(xab[num_a:,0], xab[num_a:,1], s=10, c='r', label='Label: '+str(b))\n",
    "    plt.legend(loc='upper left');\n",
    "    plt.show()"
   ]
  },
  {
   "cell_type": "markdown",
   "metadata": {},
   "source": [
    "# Visualize gates and images\n",
    "<br>"
   ]
  },
  {
   "cell_type": "code",
   "execution_count": 6,
   "metadata": {
    "collapsed": false,
    "scrolled": false
   },
   "outputs": [
    {
     "data": {
      "image/png": "[encoded data removed]",
      "text/plain": [
       "<matplotlib.figure.Figure at 0x10ed25e80>"
      ]
     },
     "metadata": {},
     "output_type": "display_data"
    },
    {
     "data": {
      "image/png": "[encoded data removed]",
      "text/plain": [
       "<matplotlib.figure.Figure at 0x10efe80f0>"
      ]
     },
     "metadata": {},
     "output_type": "display_data"
    },
    {
     "data": {
      "image/png": "[encoded data removed]",
      "text/plain": [
       "<matplotlib.figure.Figure at 0x10efb4780>"
      ]
     },
     "metadata": {},
     "output_type": "display_data"
    },
    {
     "data": {
      "image/png": "[encoded data removed]",
      "text/plain": [
       "<matplotlib.figure.Figure at 0x10f3e2cc0>"
      ]
     },
     "metadata": {},
     "output_type": "display_data"
    },
    {
     "data": {
      "image/png": "[encoded data removed]",
      "text/plain": [
       "<matplotlib.figure.Figure at 0x10f488f28>"
      ]
     },
     "metadata": {},
     "output_type": "display_data"
    },
    {
     "data": {
      "image/png": "[encoded data removed]",
      "text/plain": [
       "<matplotlib.figure.Figure at 0x10f4cf080>"
      ]
     },
     "metadata": {},
     "output_type": "display_data"
    },
    {
     "data": {
      "image/png": "[encoded data removed]",
      "text/plain": [
       "<matplotlib.figure.Figure at 0x10f69eb38>"
      ]
     },
     "metadata": {},
     "output_type": "display_data"
    },
    {
     "data": {
      "image/png": "[encoded data removed]",
      "text/plain": [
       "<matplotlib.figure.Figure at 0x10f6eff98>"
      ]
     },
     "metadata": {},
     "output_type": "display_data"
    },
    {
     "data": {
      "image/png": "[encoded data removed]",
      "text/plain": [
       "<matplotlib.figure.Figure at 0x10f7110f0>"
      ]
     },
     "metadata": {},
     "output_type": "display_data"
    },
    {
     "data": {
      "image/png": "[encoded data removed]",
      "text/plain": [
       "<matplotlib.figure.Figure at 0x10f7e6320>"
      ]
     },
     "metadata": {},
     "output_type": "display_data"
    }
   ],
   "source": [
    "visualize_gates(gates, images, num_test_digits=5)\n"
   ]
  },
  {
   "cell_type": "code",
   "execution_count": 7,
   "metadata": {
    "collapsed": false
   },
   "outputs": [],
   "source": [
    "# Close all figures (so they don't stay open in memory)\n",
    "plt.close('all')"
   ]
  },
  {
   "cell_type": "code",
   "execution_count": 8,
   "metadata": {
    "collapsed": false
   },
   "outputs": [
    {
     "ename": "NameError",
     "evalue": "name 'num_test_digits' is not defined",
     "output_type": "error",
     "traceback": [
      "\u001b[0;31m---------------------------------------------------------------------------\u001b[0m",
      "\u001b[0;31mNameError\u001b[0m                                 Traceback (most recent call last)",
      "\u001b[0;32m<ipython-input-8-1b1f729d0d6c>\u001b[0m in \u001b[0;36m<module>\u001b[0;34m()\u001b[0m\n\u001b[0;32m----> 1\u001b[0;31m \u001b[0mcompute_cosine_sim\u001b[0m\u001b[0;34m(\u001b[0m\u001b[0mgates\u001b[0m\u001b[0;34m,\u001b[0m \u001b[0mparameter_dict\u001b[0m\u001b[0;34m,\u001b[0m \u001b[0mnum_test_digits\u001b[0m\u001b[0;34m,\u001b[0m \u001b[0mtrial\u001b[0m \u001b[0;34m=\u001b[0m \u001b[0;36m2\u001b[0m\u001b[0;34m)\u001b[0m\u001b[0;34m\u001b[0m\u001b[0m\n\u001b[0m",
      "\u001b[0;31mNameError\u001b[0m: name 'num_test_digits' is not defined"
     ]
    }
   ],
   "source": [
    "compute_cosine_sim(gates, parameter_dict, num_test_digits, trial = 2)"
   ]
  },
  {
   "cell_type": "markdown",
   "metadata": {},
   "source": [
    "# Visualizations of the gates (dim reduction)\n"
   ]
  },
  {
   "cell_type": "code",
   "execution_count": null,
   "metadata": {
    "collapsed": false
   },
   "outputs": [],
   "source": [
    "# Preprocess to make gates the correct size\n",
    "gates_reshaped = np.reshape(gates, [gates.shape[0], -1])"
   ]
  },
  {
   "cell_type": "markdown",
   "metadata": {},
   "source": [
    "## Plot PCA"
   ]
  },
  {
   "cell_type": "code",
   "execution_count": null,
   "metadata": {
    "collapsed": false
   },
   "outputs": [],
   "source": [
    "# Visualize PCA\n",
    "visualize_model(gates_reshaped, labels, PCA())"
   ]
  },
  {
   "cell_type": "markdown",
   "metadata": {},
   "source": [
    "## Plot t-SNE"
   ]
  },
  {
   "cell_type": "code",
   "execution_count": null,
   "metadata": {
    "collapsed": false
   },
   "outputs": [],
   "source": [
    "# Visualize t-SNE\n",
    "visualize_model(gates_reshaped, labels, TSNE(verbose=100))"
   ]
  },
  {
   "cell_type": "markdown",
   "metadata": {},
   "source": [
    "## Plot digit comparisons (PCA)"
   ]
  },
  {
   "cell_type": "code",
   "execution_count": null,
   "metadata": {
    "collapsed": false
   },
   "outputs": [],
   "source": [
    "# Visualize the comparison between a and b (with PCA)\n",
    "visualize_comparison(gates_reshaped, labels, PCA(), a=7, b=8)"
   ]
  },
  {
   "cell_type": "markdown",
   "metadata": {},
   "source": [
    "## Plot digit comparisons (t-SNE)\n"
   ]
  },
  {
   "cell_type": "code",
   "execution_count": null,
   "metadata": {
    "collapsed": false
   },
   "outputs": [],
   "source": [
    "# Visualize the comparison between a and b (with t-SNE)\n",
    "visualize_comparison(gates_reshaped, labels, TSNE(), a=7, b=8)"
   ]
  },
  {
   "cell_type": "code",
   "execution_count": null,
   "metadata": {
    "collapsed": true
   },
   "outputs": [],
   "source": []
  }
 ],
 "metadata": {
  "anaconda-cloud": {},
  "kernelspec": {
   "display_name": "Python [conda env:tensorflow]",
   "language": "python",
   "name": "conda-env-tensorflow-py"
  },
  "language_info": {
   "codemirror_mode": {
    "name": "ipython",
    "version": 3
   },
   "file_extension": ".py",
   "mimetype": "text/x-python",
   "name": "python",
   "nbconvert_exporter": "python",
   "pygments_lexer": "ipython3",
   "version": "3.5.2"
  }
 },
 "nbformat": 4,
 "nbformat_minor": 0
}
