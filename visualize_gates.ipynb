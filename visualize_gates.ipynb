{
 "cells": [
  {
   "cell_type": "code",
   "execution_count": 12,
   "metadata": {
    "collapsed": false,
    "scrolled": false
   },
   "outputs": [],
   "source": [
    "import seaborn as sns\n",
    "import matplotlib.pyplot as plt\n",
    "import numpy as np\n",
    "%matplotlib inline\n",
    "import numpy as np\n",
    "import matplotlib\n",
    "import pickle\n",
    "from sklearn.manifold import TSNE \n",
    "from sklearn.decomposition import PCA\n",
    "\n",
    "sns.set(font_scale=1, context='notebook')\n",
    "matplotlib.rcParams['figure.figsize'] = 10,10\n",
    "plt.rcParams['axes.facecolor'] = '#f5f5f5'\n",
    "\n",
    "saved_filename = 'test'"
   ]
  },
  {
   "cell_type": "markdown",
   "metadata": {},
   "source": [
    "# Define Functions"
   ]
  },
  {
   "cell_type": "code",
   "execution_count": 13,
   "metadata": {
    "collapsed": false,
    "scrolled": false
   },
   "outputs": [],
   "source": [
    "def visualize_gates(gates, images, num_test_digits=10, shuffle=True):\n",
    "    '''\n",
    "    Visualize num_test_digits examples of gate activations\n",
    "    '''\n",
    "    # Indiviual cell is height=1, width=0.4\n",
    "    width = 1 * gates.shape[2] # Cell width * num of modules\n",
    "    height = 0.4 * gates.shape[1] # Cell height * num of layers\n",
    "    figsize = (width, height) \n",
    "\n",
    "    plot_num = num_test_digits * 100 + 11\n",
    "    for i in range(num_test_digits):\n",
    "        # To shuffle\n",
    "        if shuffle:\n",
    "            k = (i + np.random.randint(low=0, high=gates.shape[0]-1)) % gates.shape[0]\n",
    "        else:\n",
    "            k = i\n",
    "\n",
    "        plt.figure(figsize=(5, 2))\n",
    "        plt.title('Number is: '+str(labels[k]))\n",
    "        sns.heatmap(gates[k,:,:])\n",
    "        plt.figure(figsize=(2, 2))\n",
    "        plt.imshow(images[k])\n",
    "\n",
    "\n",
    "def compute_cosine_sim(gates, parameter_dict, num_test_digits, trial = 2):\n",
    "    '''\n",
    "    Compute cosine similarity\n",
    "    '''\n",
    "    gate_vectors = np.reshape(gates, (-1, parameter_dict['L']*parameter_dict['M']))\n",
    "    #print(gate_vectors.shape)\n",
    "    gate_vectors = np.transpose(gate_vectors)\n",
    "\n",
    "    output = np.zeros(num_test_digits)\n",
    "    for i in range(num_test_digits):\n",
    "        a = gate_vectors[:, trial]\n",
    "        b = gate_vectors[:, i]\n",
    "        an = a/np.linalg.norm(a)\n",
    "        bn = b/np.linalg.norm(b)\n",
    "        output[i] = np.dot(an,bn)\n",
    "\n",
    "    print('output', output)\n",
    "    elems = np.argsort(output)\n",
    "    print('Most similar elems to trial', elems[::-1])\n",
    "    \n",
    "    \n",
    "def visualize_model(gates_reshaped, labels, model):\n",
    "    '''\n",
    "    Visualize the data X, with label y with the model (t-SNE or PCA)\n",
    "    '''\n",
    "    print(gates_reshaped.shape) # sanity check\n",
    "    independent_labels = list(set(labels))\n",
    "    print(independent_labels) # sanity check\n",
    "\n",
    "    x = model.fit_transform(gates_reshaped)\n",
    "    y = labels\n",
    "\n",
    "    # Add more colors if doing something other than MNIST\n",
    "    colors = ['b','g','#00FFFF','c','m','y','k','#00A4BA','r','#F4C2C2']\n",
    "\n",
    "    fig = plt.figure()\n",
    "    ax1 = fig.add_subplot(111)\n",
    "\n",
    "    for i in (independent_labels):\n",
    "        mask_i = y == i\n",
    "        x_i = x[mask_i]\n",
    "        ax1.scatter(x_i[:,0], x_i[:,1], s=10, c=colors[i], label='Label: '+str(i))\n",
    "    plt.legend(loc='upper left');\n",
    "    plt.show()\n",
    "\n",
    "\n",
    "def visualize_comparison(gates_reshaped, labels, model, digits=[7,8]):\n",
    "    '''\n",
    "    Same as visualize model but only plots certain digits \n",
    "    '''\n",
    "    mask = labels == digits[0]\n",
    "    for digit in digits:\n",
    "        mask_digit = labels == digit\n",
    "        mask = mask | mask_digit\n",
    "\n",
    "    gates_reshaped_masked = gates_reshaped[mask, :]\n",
    "    labels_masked = labels[mask]\n",
    "    \n",
    "    x = model.fit_transform(gates_reshaped_masked)\n",
    "    y = labels_masked\n",
    "\n",
    "    # Add more colors if doing something other than MNIST\n",
    "    colors = ['b','g','#00FFFF','c','m','y','k','#00A4BA','r','#F4C2C2']\n",
    "\n",
    "    fig = plt.figure()\n",
    "    ax1 = fig.add_subplot(111)\n",
    "\n",
    "    for i in (digits):\n",
    "        mask_i = y == i\n",
    "        x_i = x[mask_i]\n",
    "        ax1.scatter(x_i[:,0], x_i[:,1], s=10, c=colors[i], label='Label: '+str(i))\n",
    "    plt.legend(loc='upper left');\n",
    "    plt.show()"
   ]
  },
  {
   "cell_type": "markdown",
   "metadata": {},
   "source": [
    "<br><br><br>\n",
    "# ------------------------------------------------------------------------------------\n",
    "#                               Visualize gates and images\n",
    "# ------------------------------------------------------------------------------------\n",
    "<br>"
   ]
  },
  {
   "cell_type": "markdown",
   "metadata": {},
   "source": [
    "# Load data\n",
    "<br>"
   ]
  },
  {
   "cell_type": "code",
   "execution_count": 14,
   "metadata": {
    "collapsed": false,
    "scrolled": false
   },
   "outputs": [
    {
     "name": "stdout",
     "output_type": "stream",
     "text": [
      "{'gamma': 2, 'num_batches': 201, 'learning_rate': 0.001, 'output_file': 'test', 'graph_structure': [[<class 'graph.module.ConvModule'>, <class 'graph.module.ConvModule'>], [<class 'graph.module.ConvModule'>, <class 'graph.module.ConvModule'>], [<class 'graph.module.ConvModule'>, <class 'graph.module.ConvModule'>]], 'sublayer_type': <class 'graph.sublayer.AdditionSublayerModule'>, 'batch_size': 100, 'C': 10, 'hidden_size': 2}\n",
      "(1000,)\n",
      "(1000, 3, 2)\n"
     ]
    }
   ],
   "source": [
    "# Load gate vector data\n",
    "with open('output/' + saved_filename + '.pkl', 'rb') as f:\n",
    "        input = pickle.load(f)\n",
    "\n",
    "# Get components from data\n",
    "gates = np.array(input[0])\n",
    "labels = np.array(input[1])\n",
    "images = np.array(input[2])\n",
    "parameter_dict = input[3]\n",
    "\n",
    "print(parameter_dict)\n",
    "print(labels.shape)\n",
    "print(gates.shape)"
   ]
  },
  {
   "cell_type": "code",
   "execution_count": 15,
   "metadata": {
    "collapsed": false,
    "scrolled": false
   },
   "outputs": [
    {
     "data": {
      "image/png": "[encoded data removed]",
      "text/plain": [
       "<matplotlib.figure.Figure at 0x1048162e8>"
      ]
     },
     "metadata": {},
     "output_type": "display_data"
    },
    {
     "data": {
      "image/png": "[encoded data removed]",
      "text/plain": [
       "<matplotlib.figure.Figure at 0x1211d4be0>"
      ]
     },
     "metadata": {},
     "output_type": "display_data"
    },
    {
     "data": {
      "image/png": "[encoded data removed]",
      "text/plain": [
       "<matplotlib.figure.Figure at 0x120692ba8>"
      ]
     },
     "metadata": {},
     "output_type": "display_data"
    },
    {
     "data": {
      "image/png": "[encoded data removed]",
      "text/plain": [
       "<matplotlib.figure.Figure at 0x120856860>"
      ]
     },
     "metadata": {},
     "output_type": "display_data"
    },
    {
     "data": {
      "image/png": "[encoded data removed]",
      "text/plain": [
       "<matplotlib.figure.Figure at 0x120adedd8>"
      ]
     },
     "metadata": {},
     "output_type": "display_data"
    },
    {
     "data": {
      "image/png": "[encoded data removed]",
      "text/plain": [
       "<matplotlib.figure.Figure at 0x120afc860>"
      ]
     },
     "metadata": {},
     "output_type": "display_data"
    },
    {
     "data": {
      "image/png": "[encoded data removed]",
      "text/plain": [
       "<matplotlib.figure.Figure at 0x120a30c18>"
      ]
     },
     "metadata": {},
     "output_type": "display_data"
    },
    {
     "data": {
      "image/png": "[encoded data removed]",
      "text/plain": [
       "<matplotlib.figure.Figure at 0x1206c0898>"
      ]
     },
     "metadata": {},
     "output_type": "display_data"
    },
    {
     "data": {
      "image/png": "[encoded data removed]",
      "text/plain": [
       "<matplotlib.figure.Figure at 0x10f4fcba8>"
      ]
     },
     "metadata": {},
     "output_type": "display_data"
    },
    {
     "data": {
      "image/png": "[encoded data removed]",
      "text/plain": [
       "<matplotlib.figure.Figure at 0x10f4c5e48>"
      ]
     },
     "metadata": {},
     "output_type": "display_data"
    }
   ],
   "source": [
    "visualize_gates(gates, images, num_test_digits=5)"
   ]
  },
  {
   "cell_type": "code",
   "execution_count": 16,
   "metadata": {
    "collapsed": false,
    "scrolled": false
   },
   "outputs": [],
   "source": [
    "# Close all figures (so they don't stay open in memory)\n",
    "plt.close('all')"
   ]
  },
  {
   "cell_type": "code",
   "execution_count": null,
   "metadata": {
    "collapsed": false,
    "scrolled": false
   },
   "outputs": [],
   "source": [
    "compute_cosine_sim(gates, parameter_dict, num_test_digits=5, trial=2)"
   ]
  },
  {
   "cell_type": "markdown",
   "metadata": {},
   "source": [
    "# Visualizations of the gates (dim reduction)\n"
   ]
  },
  {
   "cell_type": "code",
   "execution_count": null,
   "metadata": {
    "collapsed": false,
    "scrolled": false
   },
   "outputs": [],
   "source": [
    "# Preprocess to make gates the correct size\n",
    "gates_reshaped = np.reshape(gates, [gates.shape[0], -1])"
   ]
  },
  {
   "cell_type": "markdown",
   "metadata": {},
   "source": [
    "### Plot PCA"
   ]
  },
  {
   "cell_type": "code",
   "execution_count": null,
   "metadata": {
    "collapsed": false,
    "scrolled": false
   },
   "outputs": [],
   "source": [
    "# Visualize PCA\n",
    "visualize_model(gates_reshaped, labels, PCA())"
   ]
  },
  {
   "cell_type": "markdown",
   "metadata": {},
   "source": [
    "### Plot t-SNE"
   ]
  },
  {
   "cell_type": "code",
   "execution_count": null,
   "metadata": {
    "collapsed": false,
    "scrolled": false
   },
   "outputs": [],
   "source": [
    "# Visualize t-SNE\n",
    "visualize_model(gates_reshaped, labels, TSNE(verbose=100))"
   ]
  },
  {
   "cell_type": "markdown",
   "metadata": {},
   "source": [
    "### Plot digit comparisons (PCA)"
   ]
  },
  {
   "cell_type": "code",
   "execution_count": null,
   "metadata": {
    "collapsed": false,
    "scrolled": false
   },
   "outputs": [],
   "source": [
    "# Visualize the comparison between a and b (with PCA)\n",
    "visualize_comparison(gates_reshaped, labels, PCA(), digits=[0,3,8])"
   ]
  },
  {
   "cell_type": "markdown",
   "metadata": {},
   "source": [
    "### Plot digit comparisons (t-SNE)\n"
   ]
  },
  {
   "cell_type": "code",
   "execution_count": null,
   "metadata": {
    "collapsed": false,
    "scrolled": false
   },
   "outputs": [],
   "source": [
    "# Visualize the comparison between a and b (with t-SNE)\n",
    "visualize_comparison(gates_reshaped, labels, TSNE(), digits=[0,3,8])"
   ]
  },
  {
   "cell_type": "markdown",
   "metadata": {},
   "source": [
    "<br><br><br>\n",
    "# ------------------------------------------------------------------------------------\n",
    "#                      For final feature layer (pre-softmax layer)\n",
    "# ------------------------------------------------------------------------------------\n",
    "<br>"
   ]
  },
  {
   "cell_type": "code",
   "execution_count": null,
   "metadata": {
    "collapsed": false,
    "scrolled": false
   },
   "outputs": [],
   "source": [
    "# Load gate vector data\n",
    "with open('output/' + saved_filename + '__feature_layer_outputs' + '.pkl', 'rb') as f:\n",
    "        input = pickle.load(f)\n",
    "\n",
    "# Get components from data\n",
    "features = np.array(input[0])\n",
    "labels = np.array(input[1])\n",
    "images = np.array(input[2])\n",
    "parameter_dict = input[3]\n",
    "\n",
    "print(parameter_dict)\n",
    "print(labels.shape)\n",
    "print(features.shape)"
   ]
  },
  {
   "cell_type": "markdown",
   "metadata": {},
   "source": [
    "## Visualize predictions and images\n"
   ]
  },
  {
   "cell_type": "code",
   "execution_count": null,
   "metadata": {
    "collapsed": false,
    "scrolled": false
   },
   "outputs": [],
   "source": [
    "visualize_gates(features, images, num_test_digits=5)"
   ]
  },
  {
   "cell_type": "code",
   "execution_count": null,
   "metadata": {
    "collapsed": true
   },
   "outputs": [],
   "source": [
    "# Close all figures (so they don't stay open in memory)\n",
    "plt.close('all')"
   ]
  },
  {
   "cell_type": "code",
   "execution_count": null,
   "metadata": {
    "collapsed": false,
    "scrolled": false
   },
   "outputs": [],
   "source": [
    "features_reshaped = np.reshape(features, [features.shape[0], -1])\n",
    "print(features.shape)\n",
    "print(features_reshaped.shape)\n",
    "print(np.argmax(features, axis=0))"
   ]
  },
  {
   "cell_type": "markdown",
   "metadata": {},
   "source": [
    "### Plot PCA"
   ]
  },
  {
   "cell_type": "code",
   "execution_count": null,
   "metadata": {
    "collapsed": false,
    "scrolled": false
   },
   "outputs": [],
   "source": [
    "visualize_model(features_reshaped, labels, PCA())"
   ]
  },
  {
   "cell_type": "markdown",
   "metadata": {},
   "source": [
    "### Plot t-SNE"
   ]
  },
  {
   "cell_type": "code",
   "execution_count": null,
   "metadata": {
    "collapsed": false,
    "scrolled": false
   },
   "outputs": [],
   "source": [
    "visualize_model(features_reshaped, labels, TSNE(verbose=100))"
   ]
  },
  {
   "cell_type": "markdown",
   "metadata": {},
   "source": [
    "### Plot digit comparisons (PCA)"
   ]
  },
  {
   "cell_type": "code",
   "execution_count": null,
   "metadata": {
    "collapsed": false,
    "scrolled": false
   },
   "outputs": [],
   "source": [
    "# Visualize the comparison between a and b (with PCA)\n",
    "visualize_comparison(features_reshaped, labels, PCA(), digits=[0,3,8])"
   ]
  },
  {
   "cell_type": "markdown",
   "metadata": {},
   "source": [
    "### Plot digit comparisons (t-SNE)"
   ]
  },
  {
   "cell_type": "code",
   "execution_count": null,
   "metadata": {
    "collapsed": false,
    "scrolled": false
   },
   "outputs": [],
   "source": [
    "# Visualize the comparison between a and b (with t-SNE)\n",
    "visualize_comparison(features_reshaped, labels, TSNE(), digits=[0,3,8])"
   ]
  },
  {
   "cell_type": "markdown",
   "metadata": {},
   "source": [
    "<br><br><br>\n",
    "# ------------------------------------------------------------------------------------\n",
    "#                               For Softmax outputs of digits\n",
    "# ------------------------------------------------------------------------------------\n",
    "<br>"
   ]
  },
  {
   "cell_type": "markdown",
   "metadata": {},
   "source": [
    "## Visualize Softmax Predictions"
   ]
  },
  {
   "cell_type": "code",
   "execution_count": null,
   "metadata": {
    "collapsed": false,
    "scrolled": true
   },
   "outputs": [],
   "source": [
    "# Load gate vector data\n",
    "with open('output/' + saved_filename + '__softmax_outputs' + '.pkl', 'rb') as f:\n",
    "        input = pickle.load(f)\n",
    "\n",
    "# Get components from data\n",
    "preds = np.array(input[0])\n",
    "labels = np.array(input[1])\n",
    "images = np.array(input[2])\n",
    "parameter_dict = input[3]\n",
    "\n",
    "print(parameter_dict)\n",
    "print(labels.shape)\n",
    "print(preds.shape)"
   ]
  },
  {
   "cell_type": "markdown",
   "metadata": {},
   "source": [
    "## Visualize predictions and images"
   ]
  },
  {
   "cell_type": "code",
   "execution_count": null,
   "metadata": {
    "collapsed": false,
    "scrolled": false
   },
   "outputs": [],
   "source": [
    "visualize_gates(preds, images, num_test_digits=5)"
   ]
  },
  {
   "cell_type": "code",
   "execution_count": null,
   "metadata": {
    "collapsed": true
   },
   "outputs": [],
   "source": [
    "# Close all figures (so they don't stay open in memory)\n",
    "plt.close('all')"
   ]
  },
  {
   "cell_type": "code",
   "execution_count": null,
   "metadata": {
    "collapsed": false,
    "scrolled": true
   },
   "outputs": [],
   "source": [
    "preds_reshaped = np.reshape(preds, [preds.shape[0], -1])\n",
    "print(preds.shape)\n",
    "print(preds_reshaped.shape)\n",
    "print(np.argmax(preds, axis=0))"
   ]
  },
  {
   "cell_type": "markdown",
   "metadata": {},
   "source": [
    "### Plot PCA"
   ]
  },
  {
   "cell_type": "code",
   "execution_count": null,
   "metadata": {
    "collapsed": false,
    "scrolled": false
   },
   "outputs": [],
   "source": [
    "visualize_model(preds_reshaped, labels, PCA())"
   ]
  },
  {
   "cell_type": "markdown",
   "metadata": {},
   "source": [
    "### Plot t-SNE"
   ]
  },
  {
   "cell_type": "code",
   "execution_count": null,
   "metadata": {
    "collapsed": false,
    "scrolled": false
   },
   "outputs": [],
   "source": [
    "visualize_model(preds_reshaped, labels, TSNE(verbose=100))"
   ]
  },
  {
   "cell_type": "markdown",
   "metadata": {},
   "source": [
    "### Plot digit comparisons (PCA)"
   ]
  },
  {
   "cell_type": "code",
   "execution_count": null,
   "metadata": {
    "collapsed": false,
    "scrolled": false
   },
   "outputs": [],
   "source": [
    "# Visualize the comparison between a and b (with PCA)\n",
    "visualize_comparison(preds_reshaped, labels, PCA(), digits=[0,3,8])"
   ]
  },
  {
   "cell_type": "markdown",
   "metadata": {},
   "source": [
    "### Plot digit comparisons (t-SNE)"
   ]
  },
  {
   "cell_type": "code",
   "execution_count": null,
   "metadata": {
    "collapsed": false,
    "scrolled": false
   },
   "outputs": [],
   "source": [
    "# Visualize the comparison between a and b (with t-SNE)\n",
    "visualize_comparison(preds_reshaped, labels, TSNE(), digits=[0,3,8])"
   ]
  },
  {
   "cell_type": "code",
   "execution_count": null,
   "metadata": {
    "collapsed": true
   },
   "outputs": [],
   "source": []
  },
  {
   "cell_type": "markdown",
   "metadata": {},
   "source": [
    "<br><br><br>\n",
    "# ------------------------------------------------------------------------------------\n",
    "#         Compare Performance of Gates vs Features  vs Combined\n",
    "# -----------------------------------------------------------------------------------\n",
    "<br>"
   ]
  },
  {
   "cell_type": "code",
   "execution_count": null,
   "metadata": {
    "collapsed": false,
    "scrolled": false
   },
   "outputs": [],
   "source": [
    "# Load feature vector data\n",
    "with open('output/' + saved_filename + '__feature_layer_outputs' + '.pkl', 'rb') as f:\n",
    "        input = pickle.load(f)\n",
    "features = np.array(input[0])\n",
    "labels = np.array(input[1])\n",
    "images = np.array(input[2])\n",
    "parameter_dict = input[3]\n",
    "\n",
    "# Load gate vector data\n",
    "with open('output/' + saved_filename + '.pkl', 'rb') as f:\n",
    "        input = pickle.load(f)\n",
    "gates = np.array(input[0])\n",
    "\n",
    "gates = np.reshape(gates, [gates.shape[0], 1, -1]) # To concat with feats\n",
    "feats_and_gates = np.concatenate([gates,features], axis=2)\n",
    "feats_and_gates_reshaped = np.reshape(feats_and_gates, [feats_and_gates.shape[0], -1])\n",
    "\n",
    "visualize_model(feats_and_gates_reshaped, labels, PCA())\n",
    "visualize_model(feats_and_gates_reshaped, labels, TSNE(verbose=100))\n",
    "visualize_comparison(feats_and_gates_reshaped, labels, PCA(), digits=[0,3,8])\n",
    "visualize_comparison(feats_and_gates_reshaped, labels, TSNE(), digits=[0,3,8])\n"
   ]
  },
  {
   "cell_type": "code",
   "execution_count": null,
   "metadata": {
    "collapsed": true
   },
   "outputs": [],
   "source": []
  },
  {
   "cell_type": "code",
   "execution_count": null,
   "metadata": {
    "collapsed": false,
    "scrolled": false
   },
   "outputs": [],
   "source": [
    "# Load feature vector data\n",
    "with open('output/' + saved_filename + '__feature_layer_outputs' + '.pkl', 'rb') as f:\n",
    "        input = pickle.load(f)\n",
    "features = np.array(input[0])\n",
    "labels = np.array(input[1])\n",
    "images = np.array(input[2])\n",
    "parameter_dict = input[3]\n",
    "\n",
    "features_reshaped = np.reshape(features, [features.shape[0], -1])\n",
    "visualize_model(features_reshaped, labels, PCA())\n",
    "visualize_model(features_reshaped, labels, TSNE(verbose=100))\n",
    "visualize_comparison(features_reshaped, labels, PCA(), digits=[0,3,8])\n",
    "visualize_comparison(features_reshaped, labels, TSNE(), digits=[0,3,8])\n"
   ]
  },
  {
   "cell_type": "code",
   "execution_count": null,
   "metadata": {
    "collapsed": true
   },
   "outputs": [],
   "source": []
  },
  {
   "cell_type": "code",
   "execution_count": null,
   "metadata": {
    "collapsed": false,
    "scrolled": false
   },
   "outputs": [],
   "source": [
    "# Load gate vector data\n",
    "with open('output/' + saved_filename + '.pkl', 'rb') as f:\n",
    "        input = pickle.load(f)\n",
    "gates = np.array(input[0])\n",
    "labels = np.array(input[1])\n",
    "images = np.array(input[2])\n",
    "parameter_dict = input[3]\n",
    "\n",
    "gates_reshaped = np.reshape(gates, [gates.shape[0], -1])\n",
    "visualize_model(gates_reshaped, labels, PCA())\n",
    "visualize_model(gates_reshaped, labels, TSNE(verbose=100))\n",
    "visualize_comparison(gates_reshaped, labels, PCA(), digits=[0,3,8])\n",
    "visualize_comparison(gates_reshaped, labels, TSNE(), digits=[0,3,8])\n"
   ]
  },
  {
   "cell_type": "code",
   "execution_count": null,
   "metadata": {
    "collapsed": true
   },
   "outputs": [],
   "source": []
  }
 ],
 "metadata": {
  "anaconda-cloud": {},
  "kernelspec": {
   "display_name": "Python [conda env:tensorflow]",
   "language": "python",
   "name": "conda-env-tensorflow-py"
  },
  "language_info": {
   "codemirror_mode": {
    "name": "ipython",
    "version": 3
   },
   "file_extension": ".py",
   "mimetype": "text/x-python",
   "name": "python",
   "nbconvert_exporter": "python",
   "pygments_lexer": "ipython3",
   "version": "3.5.2"
  }
 },
 "nbformat": 4,
 "nbformat_minor": 0
}
